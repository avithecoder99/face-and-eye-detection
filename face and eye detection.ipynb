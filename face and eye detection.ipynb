{
 "cells": [
  {
   "cell_type": "code",
   "execution_count": 1,
   "id": "bccaa03c-77e1-45d0-b025-7dc44fe5335e",
   "metadata": {},
   "outputs": [],
   "source": [
    "# Face Recognition\n",
    "import cv2\n",
    "\n",
    "# loading the cascade for the face and eyes.\n",
    "face_cascade = cv2.CascadeClassifier('haarcascade_frontalface_default.xml')\n",
    "eye_cascade = cv2.CascadeClassifier('haarcascade_eye.xml')\n",
    "\n",
    "# Creating a function that takes as input the image in black and white (gray) and the original image (frame), and that will return the same image with the detector rectangles. \n",
    "# applying the detectMultiScale method from the face cascade to locate one or several faces in the image.\n",
    "# painting a rectangle around the face.\n",
    "# getting the region of interest in the black and white image.\n",
    "# applying the detectMultiScale method to locate one or several eyes in the image.\n",
    "# For each detected eye:\n",
    "# painting a rectangle around the eyes, but inside the referential of the face.\n",
    "# returning the image with the detector rectangles.\n",
    "def detecting_eyes(gray, frame): \n",
    "    faces = face_cascade.detectMultiScale(gray, 1.3, 5) \n",
    "    for (x, y, w, h) in faces: \n",
    "        cv2.rectangle(frame, (x, y), (x+w, y+h), (255, 0, 0), 2) \n",
    "        roi_gray = gray[y:y+h, x:x+w] \n",
    "        roi_color = frame[y:y+h, x:x+w] \n",
    "        eyes = eye_cascade.detectMultiScale(roi_gray, 1.1, 3) \n",
    "        for (ex, ey, ew, eh) in eyes: \n",
    "            cv2.rectangle(roi_color,(ex, ey),(ex+ew, ey+eh), (0, 255, 0), 2) \n",
    "    return frame \n",
    "\n",
    "# turning the webcam on.\n",
    "video_capture = cv2.VideoCapture(0) \n",
    "\n",
    "# repeating infinitely (until break):\n",
    "while True:\n",
    "    # getting the last frame.\n",
    "    _, frame = video_capture.read() \n",
    "    \n",
    "    # doing some colour transformations.\n",
    "    gray = cv2.cvtColor(frame, cv2.COLOR_BGR2GRAY)\n",
    "    \n",
    "    # getting the output of our detect function.\n",
    "    canvas = detecting_eyes(gray, frame) \n",
    "    \n",
    "    # displaying the outputs.\n",
    "    cv2.imshow('Video', canvas) \n",
    "    \n",
    "    # Breaking the loop if 'q' key is pressed\n",
    "    if cv2.waitKey(1) & 0xFF == ord('q'): \n",
    "        break \n",
    "        \n",
    "# Releasing the webcam and close all windows\n",
    "video_capture.release() \n",
    "cv2.destroyAllWindows()"
   ]
  },
  {
   "cell_type": "code",
   "execution_count": null,
   "id": "0afc4737",
   "metadata": {},
   "outputs": [],
   "source": []
  }
 ],
 "metadata": {
  "kernelspec": {
   "display_name": "Python 3 (ipykernel)",
   "language": "python",
   "name": "python3"
  },
  "language_info": {
   "codemirror_mode": {
    "name": "ipython",
    "version": 3
   },
   "file_extension": ".py",
   "mimetype": "text/x-python",
   "name": "python",
   "nbconvert_exporter": "python",
   "pygments_lexer": "ipython3",
   "version": "3.11.4"
  }
 },
 "nbformat": 4,
 "nbformat_minor": 5
}
